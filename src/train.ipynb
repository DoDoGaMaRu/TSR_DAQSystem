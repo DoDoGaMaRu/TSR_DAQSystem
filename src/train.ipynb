{
 "cells": [
  {
   "cell_type": "code",
   "execution_count": null,
   "id": "initial_id",
   "metadata": {
    "collapsed": true
   },
   "outputs": [],
   "source": [
    "from models.lstm_ae import LstmAE\n",
    "from config import ModelConfig"
   ]
  },
  {
   "cell_type": "code",
   "execution_count": null,
   "outputs": [],
   "source": [
    "# 학습시 아래 코드 사용. 컨픽 수정 필요\n",
    "model = LstmAE()\n",
    "model.train('resources/data')\n",
    "\n",
    "# 모델 불러오기 시 아래 코드 사용\n",
    "#model.build((None, ModelConfig.SEQ_LEN, ModelConfig.INPUT_DIM))\n",
    "#model.load_weights('lstm_ae.h5')"
   ],
   "metadata": {
    "collapsed": false
   },
   "id": "dd329857450f1467"
  },
  {
   "cell_type": "code",
   "execution_count": null,
   "outputs": [],
   "source": [
    "model.summary()"
   ],
   "metadata": {
    "collapsed": false
   },
   "id": "254a5d3708fe359c"
  }
 ],
 "metadata": {
  "kernelspec": {
   "display_name": "Python 3",
   "language": "python",
   "name": "python3"
  },
  "language_info": {
   "codemirror_mode": {
    "name": "ipython",
    "version": 2
   },
   "file_extension": ".py",
   "mimetype": "text/x-python",
   "name": "python",
   "nbconvert_exporter": "python",
   "pygments_lexer": "ipython2",
   "version": "2.7.6"
  }
 },
 "nbformat": 4,
 "nbformat_minor": 5
}
